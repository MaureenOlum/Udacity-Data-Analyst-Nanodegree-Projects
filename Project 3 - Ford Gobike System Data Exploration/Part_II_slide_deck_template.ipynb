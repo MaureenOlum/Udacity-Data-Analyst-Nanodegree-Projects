{
 "cells": [
  {
   "cell_type": "markdown",
   "metadata": {
    "slideshow": {
     "slide_type": "slide"
    }
   },
   "source": [
    "# Part II - (Ford Gobike System Data Exploration)\n",
    "## by (Maureen Anyango)"
   ]
  },
  {
   "cell_type": "markdown",
   "metadata": {
    "slideshow": {
     "slide_type": "slide"
    }
   },
   "source": [
    "## Investigation Overview\n",
    "> In the data exploration, I explored individual bike rides taken from Ford Gobike bike-sharing system in San Francisco Bay Area, California in 2019. The main focus was which hour(s) of the day, which day(s) of the week and month(s) of the year were most trips taken and features that can best predict average bike trip like duration, age, gender and user type.\n",
    "\n",
    "\n",
    "## Dataset Overview\n",
    "\n",
    "> The Ford GoBike System dataset includes information about individual rides made in a bike-sharing system covering the greater San Francisco Bay area in 2019."
   ]
  },
  {
   "cell_type": "code",
   "execution_count": 1,
   "metadata": {
    "slideshow": {
     "slide_type": "skip"
    }
   },
   "outputs": [],
   "source": [
    "# import all packages and set plots to be embedded inline\n",
    "import numpy as np\n",
    "import pandas as pd\n",
    "import matplotlib.pyplot as plt\n",
    "import seaborn as sb\n",
    "\n",
    "%matplotlib inline\n",
    "\n",
    "# suppress warnings from final output\n",
    "import warnings\n",
    "warnings.simplefilter(\"ignore\")"
   ]
  },
  {
   "cell_type": "code",
   "execution_count": 2,
   "metadata": {
    "slideshow": {
     "slide_type": "skip"
    }
   },
   "outputs": [
    {
     "data": {
      "text/html": [
       "<div>\n",
       "<style scoped>\n",
       "    .dataframe tbody tr th:only-of-type {\n",
       "        vertical-align: middle;\n",
       "    }\n",
       "\n",
       "    .dataframe tbody tr th {\n",
       "        vertical-align: top;\n",
       "    }\n",
       "\n",
       "    .dataframe thead th {\n",
       "        text-align: right;\n",
       "    }\n",
       "</style>\n",
       "<table border=\"1\" class=\"dataframe\">\n",
       "  <thead>\n",
       "    <tr style=\"text-align: right;\">\n",
       "      <th></th>\n",
       "      <th>duration_sec</th>\n",
       "      <th>start_time</th>\n",
       "      <th>end_time</th>\n",
       "      <th>start_station_name</th>\n",
       "      <th>end_station_name</th>\n",
       "      <th>user_type</th>\n",
       "      <th>member_birth_year</th>\n",
       "      <th>member_gender</th>\n",
       "      <th>bike_share_for_all_trip</th>\n",
       "      <th>start_month</th>\n",
       "      <th>start_day</th>\n",
       "      <th>start_hour</th>\n",
       "      <th>end_month</th>\n",
       "      <th>end_day</th>\n",
       "      <th>end_hour</th>\n",
       "      <th>age</th>\n",
       "      <th>duration_min</th>\n",
       "    </tr>\n",
       "  </thead>\n",
       "  <tbody>\n",
       "    <tr>\n",
       "      <th>0</th>\n",
       "      <td>52185</td>\n",
       "      <td>2019-02-28 17:32:10.145</td>\n",
       "      <td>2019-03-01 08:01:55.975</td>\n",
       "      <td>Montgomery St BART Station (Market St at 2nd St)</td>\n",
       "      <td>Commercial St at Montgomery St</td>\n",
       "      <td>Customer</td>\n",
       "      <td>1984.0</td>\n",
       "      <td>Male</td>\n",
       "      <td>No</td>\n",
       "      <td>February</td>\n",
       "      <td>Thursday</td>\n",
       "      <td>17</td>\n",
       "      <td>March</td>\n",
       "      <td>Friday</td>\n",
       "      <td>8</td>\n",
       "      <td>35</td>\n",
       "      <td>869.750000</td>\n",
       "    </tr>\n",
       "    <tr>\n",
       "      <th>1</th>\n",
       "      <td>61854</td>\n",
       "      <td>2019-02-28 12:13:13.218</td>\n",
       "      <td>2019-03-01 05:24:08.146</td>\n",
       "      <td>Market St at Dolores St</td>\n",
       "      <td>Powell St BART Station (Market St at 4th St)</td>\n",
       "      <td>Customer</td>\n",
       "      <td>1972.0</td>\n",
       "      <td>Male</td>\n",
       "      <td>No</td>\n",
       "      <td>February</td>\n",
       "      <td>Thursday</td>\n",
       "      <td>12</td>\n",
       "      <td>March</td>\n",
       "      <td>Friday</td>\n",
       "      <td>5</td>\n",
       "      <td>47</td>\n",
       "      <td>1030.900000</td>\n",
       "    </tr>\n",
       "    <tr>\n",
       "      <th>2</th>\n",
       "      <td>36490</td>\n",
       "      <td>2019-02-28 17:54:26.010</td>\n",
       "      <td>2019-03-01 04:02:36.842</td>\n",
       "      <td>Grove St at Masonic Ave</td>\n",
       "      <td>Central Ave at Fell St</td>\n",
       "      <td>Subscriber</td>\n",
       "      <td>1989.0</td>\n",
       "      <td>Other</td>\n",
       "      <td>No</td>\n",
       "      <td>February</td>\n",
       "      <td>Thursday</td>\n",
       "      <td>17</td>\n",
       "      <td>March</td>\n",
       "      <td>Friday</td>\n",
       "      <td>4</td>\n",
       "      <td>30</td>\n",
       "      <td>608.166667</td>\n",
       "    </tr>\n",
       "    <tr>\n",
       "      <th>3</th>\n",
       "      <td>1585</td>\n",
       "      <td>2019-02-28 23:54:18.549</td>\n",
       "      <td>2019-03-01 00:20:44.074</td>\n",
       "      <td>Frank H Ogawa Plaza</td>\n",
       "      <td>10th Ave at E 15th St</td>\n",
       "      <td>Subscriber</td>\n",
       "      <td>1974.0</td>\n",
       "      <td>Male</td>\n",
       "      <td>Yes</td>\n",
       "      <td>February</td>\n",
       "      <td>Thursday</td>\n",
       "      <td>23</td>\n",
       "      <td>March</td>\n",
       "      <td>Friday</td>\n",
       "      <td>0</td>\n",
       "      <td>45</td>\n",
       "      <td>26.416667</td>\n",
       "    </tr>\n",
       "    <tr>\n",
       "      <th>4</th>\n",
       "      <td>1793</td>\n",
       "      <td>2019-02-28 23:49:58.632</td>\n",
       "      <td>2019-03-01 00:19:51.760</td>\n",
       "      <td>4th St at Mission Bay Blvd S</td>\n",
       "      <td>Broadway at Kearny</td>\n",
       "      <td>Subscriber</td>\n",
       "      <td>1959.0</td>\n",
       "      <td>Male</td>\n",
       "      <td>No</td>\n",
       "      <td>February</td>\n",
       "      <td>Thursday</td>\n",
       "      <td>23</td>\n",
       "      <td>March</td>\n",
       "      <td>Friday</td>\n",
       "      <td>0</td>\n",
       "      <td>60</td>\n",
       "      <td>29.883333</td>\n",
       "    </tr>\n",
       "  </tbody>\n",
       "</table>\n",
       "</div>"
      ],
      "text/plain": [
       "   duration_sec               start_time                 end_time  \\\n",
       "0         52185  2019-02-28 17:32:10.145  2019-03-01 08:01:55.975   \n",
       "1         61854  2019-02-28 12:13:13.218  2019-03-01 05:24:08.146   \n",
       "2         36490  2019-02-28 17:54:26.010  2019-03-01 04:02:36.842   \n",
       "3          1585  2019-02-28 23:54:18.549  2019-03-01 00:20:44.074   \n",
       "4          1793  2019-02-28 23:49:58.632  2019-03-01 00:19:51.760   \n",
       "\n",
       "                                 start_station_name  \\\n",
       "0  Montgomery St BART Station (Market St at 2nd St)   \n",
       "1                           Market St at Dolores St   \n",
       "2                           Grove St at Masonic Ave   \n",
       "3                               Frank H Ogawa Plaza   \n",
       "4                      4th St at Mission Bay Blvd S   \n",
       "\n",
       "                               end_station_name   user_type  \\\n",
       "0                Commercial St at Montgomery St    Customer   \n",
       "1  Powell St BART Station (Market St at 4th St)    Customer   \n",
       "2                        Central Ave at Fell St  Subscriber   \n",
       "3                         10th Ave at E 15th St  Subscriber   \n",
       "4                            Broadway at Kearny  Subscriber   \n",
       "\n",
       "   member_birth_year member_gender bike_share_for_all_trip start_month  \\\n",
       "0             1984.0          Male                      No    February   \n",
       "1             1972.0          Male                      No    February   \n",
       "2             1989.0         Other                      No    February   \n",
       "3             1974.0          Male                     Yes    February   \n",
       "4             1959.0          Male                      No    February   \n",
       "\n",
       "  start_day  start_hour end_month end_day  end_hour  age  duration_min  \n",
       "0  Thursday          17     March  Friday         8   35    869.750000  \n",
       "1  Thursday          12     March  Friday         5   47   1030.900000  \n",
       "2  Thursday          17     March  Friday         4   30    608.166667  \n",
       "3  Thursday          23     March  Friday         0   45     26.416667  \n",
       "4  Thursday          23     March  Friday         0   60     29.883333  "
      ]
     },
     "execution_count": 2,
     "metadata": {},
     "output_type": "execute_result"
    }
   ],
   "source": [
    "# load in the dataset into a pandas dataframe\n",
    "gobike_clean = pd.read_csv('clean_data.csv')\n",
    "gobike_clean.head()"
   ]
  },
  {
   "cell_type": "markdown",
   "metadata": {
    "slideshow": {
     "slide_type": "notes"
    }
   },
   "source": [
    "> Note that the above cells have been set as \"Skip\"-type slides. That means\n",
    "that when the notebook is rendered as http slides, those cells won't show up."
   ]
  },
  {
   "cell_type": "markdown",
   "metadata": {
    "slideshow": {
     "slide_type": "slide"
    }
   },
   "source": [
    "## (Visualization 1)\n",
    "\n",
    "> ***What is the distribution of trip duration?***\n",
    "\n",
    "> The distribution of Trip duration is heavily skewed right therefore a log scale tranformation was applied to the plot. The distribution of duration after apply a log scale transformation the distribution looks roughly bimodal with the highest peak between 8 minutes and 10 minutes. Majority of the trips lasts between 8 minutes and 15 minutes."
   ]
  },
  {
   "cell_type": "code",
   "execution_count": 3,
   "metadata": {
    "scrolled": false,
    "slideshow": {
     "slide_type": "subslide"
    }
   },
   "outputs": [
    {
     "data": {
      "image/png": "[encoded data removed]",
      "text/plain": [
       "<matplotlib.figure.Figure at 0x7f7af8a84f28>"
      ]
     },
     "metadata": {
      "needs_background": "light"
     },
     "output_type": "display_data"
    }
   ],
   "source": [
    "plt.figure(figsize=[20,8])\n",
    "\n",
    "plt.subplot(1, 2, 1)\n",
    "binsize = 10\n",
    "bins = np.arange(0, gobike_clean.duration_min.max()+binsize, binsize)\n",
    "plt.hist(data=gobike_clean, x='duration_min', bins=bins)\n",
    "plt.xlabel('Duration (mins)')\n",
    "plt.ylabel('No. of trips')\n",
    "plt.title('Normal scale')\n",
    "plt.xlim(0, 200);\n",
    "\n",
    "plt.subplot(1, 2, 2)\n",
    "# plotting on a Logarthmic scale transformation\n",
    "bins = 10 ** np.arange(0, np.log10(gobike_clean.duration_min).max()+0.1, 0.1)\n",
    "plt.hist(data=gobike_clean, x='duration_min', bins=bins)\n",
    "tick_locs = [1, 2, 5, 10, 20, 50, 100, 200, 500, 1000]\n",
    "plt.xlabel('Durations (mins)')\n",
    "plt.ylabel('No. of trips')\n",
    "plt.title('After Log scale transformation')\n",
    "plt.xscale('log')\n",
    "plt.xticks(tick_locs, tick_locs);"
   ]
  },
  {
   "cell_type": "markdown",
   "metadata": {
    "collapsed": true,
    "slideshow": {
     "slide_type": "slide"
    }
   },
   "source": [
    "## (Visualization 2)\n",
    "\n",
    "> ***Comparing trip Duration against days of the week for each gender***\n",
    "\n",
    "> The trend of trip duration is at it peak on weekends from Friday to Saturday for all gender type. Males take the shortest bike trips compared to female and other genders."
   ]
  },
  {
   "cell_type": "code",
   "execution_count": 4,
   "metadata": {
    "slideshow": {
     "slide_type": "subslide"
    }
   },
   "outputs": [
    {
     "data": {
      "image/png": "[encoded data removed]",
      "text/plain": [
       "<matplotlib.figure.Figure at 0x7f7af8b80208>"
      ]
     },
     "metadata": {
      "needs_background": "light"
     },
     "output_type": "display_data"
    }
   ],
   "source": [
    "startday = ['Monday', 'Tuesday', 'Wednesday', 'Thursday', 'Friday', 'Saturday', 'Sunday']\n",
    "ordered_startday =pd.api.types.CategoricalDtype(ordered=True,\n",
    "                                                categories=startday)\n",
    "gobike_clean['start_day'] = gobike_clean['start_day'].astype(ordered_startday)\n",
    "\n",
    "fig = plt.figure(figsize=[10,8])\n",
    "\n",
    "sb.pointplot(data=gobike_clean, x='start_day', y='duration_min', hue='member_gender', palette='Blues', ci=None)\n",
    "plt.xlabel('days of the week')\n",
    "plt.ylabel('Trip duration (mins)')\n",
    "plt.title('Trip duration against Days of the week for each Gender');\n"
   ]
  },
  {
   "cell_type": "markdown",
   "metadata": {
    "slideshow": {
     "slide_type": "slide"
    }
   },
   "source": [
    "## (Visualization 3)\n",
    "\n",
    "> ***Comparing trip Duration against age for each gender***\n",
    "\n",
    "> Younger Female users take longer rides compare to younger male users while more older males user take longer trip than older female users. The most longest trip duration among all gender types are in the 20 to 60 age group."
   ]
  },
  {
   "cell_type": "code",
   "execution_count": 5,
   "metadata": {
    "slideshow": {
     "slide_type": "subslide"
    }
   },
   "outputs": [
    {
     "data": {
      "image/png": "[encoded data removed]",
      "text/plain": [
       "<matplotlib.figure.Figure at 0x7f7af896ec18>"
      ]
     },
     "metadata": {
      "needs_background": "light"
     },
     "output_type": "display_data"
    }
   ],
   "source": [
    "# Compute the logarithmic scale on duration_min\n",
    "def log_trans(x, inverse = False):\n",
    "    \"\"\"quick function for computing log and power operations \"\"\"\n",
    "    if not inverse:\n",
    "        return np.log10(x)\n",
    "    else:\n",
    "        return np.power(10, x)\n",
    "    \n",
    "gobike_clean['log_duration_min'] = gobike_clean['duration_min'].apply(log_trans)\n",
    "# Define a function to create heatmaps\n",
    "def hist2grid(x, y, **kwargs):\n",
    "    \"\"\"creating heatmaps with seaborn's PairGrid.\"\"\"\n",
    "    palette = kwargs.pop('color')\n",
    "    bins_x = np.arange(0, gobike_clean['age'].max()+5, 5)\n",
    "    bins_y = np.arange(0, 3.2+0.1, 0.1)\n",
    "    plt.hist2d(x, y, bins = [bins_x, bins_y], cmap=palette, cmin=0.5)\n",
    "    plt.yticks(log_trans(np.array([1, 2, 5, 10, 20, 50, 100, 200, 500, 1000])),\n",
    "               [1, 2, 5, 10, 20, 50, 100, 200, 500, 1000]);\n",
    "    \n",
    "    # Plot a heatmap grid for age, duration vs gender\n",
    "g = sb.FacetGrid(data=gobike_clean, col='member_gender', col_wrap=3, size=3)\n",
    "g.map(hist2grid, 'age', 'log_duration_min', color='rocket_r')\n",
    "plt.yticks(log_trans(np.array([1, 2, 5, 10, 20, 50, 100, 200, 500, 1000])),\n",
    "               [1, 2, 5, 10, 20, 50, 100, 200, 500, 1000])\n",
    "g.set_xlabels('age')\n",
    "g.set_ylabels('Trip duration (mins)');"
   ]
  },
  {
   "cell_type": "markdown",
   "metadata": {
    "slideshow": {
     "slide_type": "slide"
    }
   },
   "source": [
    "## (Visualization 4)\n",
    "\n",
    "> ***Comparing trip Duration against age for each user type***\n",
    "\n",
    "> Subscriber are slighly older than customers users whereas customer users generally take longer bike trip than subscriber of relatively same age. Majority of the both subcriber and customer users are between age 20 and 60."
   ]
  },
  {
   "cell_type": "code",
   "execution_count": 6,
   "metadata": {
    "slideshow": {
     "slide_type": "subslide"
    }
   },
   "outputs": [
    {
     "data": {
      "image/png": "[encoded data removed]",
      "text/plain": [
       "<matplotlib.figure.Figure at 0x7f7af75bb4a8>"
      ]
     },
     "metadata": {
      "needs_background": "light"
     },
     "output_type": "display_data"
    }
   ],
   "source": [
    " # Plot a heatmap grid for age, duration vs gender\n",
    "g = sb.FacetGrid(data=gobike_clean, col='user_type', col_wrap=3, size=3)\n",
    "g.map(hist2grid, 'age', 'log_duration_min', color='rocket_r')\n",
    "plt.yticks(log_trans(np.array([1, 2, 5, 10, 20, 50, 100, 200, 500, 1000])),\n",
    "               [1, 2, 5, 10, 20, 50, 100, 200, 500, 1000])\n",
    "g.set_xlabels('age')\n",
    "g.set_ylabels('Trip duration (mins)');"
   ]
  },
  {
   "cell_type": "markdown",
   "metadata": {
    "slideshow": {
     "slide_type": "slide"
    }
   },
   "source": [
    "\n",
    "## Key Insights for Presentation\n",
    "\n",
    "> The trip duration is an important feature and is influenced by the following features:\n",
    "- Age\n",
    "People within 20 to 60 age group take the longest trip duration compared to other age groups.\n",
    "- Gender\n",
    "Female tends to take the longest trip duration more than males or other gender in contrast to taking the least number of trips.\n",
    "- Day of the week\n",
    "The longest trip are taken on the weekends compared to weekdays.\n",
    "- User type\n",
    "Customers tends to take the longest trip duration compared to subscribers.\n"
   ]
  },
  {
   "cell_type": "markdown",
   "metadata": {
    "slideshow": {
     "slide_type": "skip"
    }
   },
   "source": [
    "### Generate Slideshow\n",
    "Once you're ready to generate your slideshow, use the `jupyter nbconvert` command to generate the HTML slide show.  "
   ]
  },
  {
   "cell_type": "code",
   "execution_count": null,
   "metadata": {
    "slideshow": {
     "slide_type": "skip"
    }
   },
   "outputs": [
    {
     "name": "stdout",
     "output_type": "stream",
     "text": [
      "[NbConvertApp] Converting notebook Part_II_slide_deck_template.ipynb to slides\n",
      "[NbConvertApp] Writing 384165 bytes to Part_II_slide_deck_template.slides.html\n",
      "[NbConvertApp] Redirecting reveal.js requests to https://cdnjs.cloudflare.com/ajax/libs/reveal.js/3.5.0\n",
      "Serving your slides at http://127.0.0.1:8000/Part_II_slide_deck_template.slides.html\n",
      "Use Control-C to stop this server\n",
      "/usr/bin/xdg-open: 778: /usr/bin/xdg-open: x-www-browser: not found\n",
      "/usr/bin/xdg-open: 778: /usr/bin/xdg-open: firefox: not found\n",
      "/usr/bin/xdg-open: 778: /usr/bin/xdg-open: iceweasel: not found\n",
      "/usr/bin/xdg-open: 778: /usr/bin/xdg-open: seamonkey: not found\n",
      "/usr/bin/xdg-open: 778: /usr/bin/xdg-open: mozilla: not found\n",
      "/usr/bin/xdg-open: 778: /usr/bin/xdg-open: epiphany: not found\n",
      "/usr/bin/xdg-open: 778: /usr/bin/xdg-open: konqueror: not found\n",
      "/usr/bin/xdg-open: 778: /usr/bin/xdg-open: chromium-browser: not found\n",
      "/usr/bin/xdg-open: 778: /usr/bin/xdg-open: google-chrome: not found\n",
      "/usr/bin/xdg-open: 778: /usr/bin/xdg-open: www-browser: not found\n",
      "/usr/bin/xdg-open: 778: /usr/bin/xdg-open: links2: not found\n",
      "/usr/bin/xdg-open: 778: /usr/bin/xdg-open: elinks: not found\n",
      "/usr/bin/xdg-open: 778: /usr/bin/xdg-open: links: not found\n",
      "/usr/bin/xdg-open: 778: /usr/bin/xdg-open: lynx: not found\n",
      "/usr/bin/xdg-open: 778: /usr/bin/xdg-open: w3m: not found\n",
      "xdg-open: no method available for opening 'http://127.0.0.1:8000/Part_II_slide_deck_template.slides.html'\n"
     ]
    }
   ],
   "source": [
    "# Use this command if you are running this file in local\n",
    "!jupyter nbconvert Part_II_slide_deck_template.ipynb --to slides --post serve --no-input --no-prompt"
   ]
  },
  {
   "cell_type": "markdown",
   "metadata": {
    "slideshow": {
     "slide_type": "skip"
    }
   },
   "source": [
    "> In the classroom workspace, the generated HTML slideshow will be placed in the home folder. \n",
    "\n",
    "> In local machines, the command above should open a tab in your web browser where you can scroll through your presentation. Sub-slides can be accessed by pressing 'down' when viewing its parent slide. Make sure you remove all of the quote-formatted guide notes like this one before you finish your presentation! At last, you can stop the Kernel. "
   ]
  },
  {
   "cell_type": "markdown",
   "metadata": {
    "slideshow": {
     "slide_type": "skip"
    }
   },
   "source": [
    "### Submission\n",
    "If you are using classroom workspace, you can choose from the following two ways of submission:\n",
    "\n",
    "1. **Submit from the workspace**. Make sure you have removed the example project from the /home/workspace directory. You must submit the following files:\n",
    "   - Part_I_notebook.ipynb\n",
    "   - Part_I_notebook.html or pdf\n",
    "   - Part_II_notebook.ipynb\n",
    "   - Part_I_slides.html\n",
    "   - README.md\n",
    "   - dataset (optional)\n",
    "\n",
    "\n",
    "2. **Submit a zip file on the last page of this project lesson**. In this case, open the Jupyter terminal and run the command below to generate a ZIP file. \n",
    "```bash\n",
    "zip -r my_project.zip .\n",
    "```\n",
    "The command abobve will ZIP every file present in your /home/workspace directory. Next, you can download the zip to your local, and follow the instructions on the last page of this project lesson.\n"
   ]
  }
 ],
 "metadata": {
  "celltoolbar": "Slideshow",
  "kernelspec": {
   "display_name": "Python 3",
   "language": "python",
   "name": "python3"
  },
  "language_info": {
   "codemirror_mode": {
    "name": "ipython",
    "version": 3
   },
   "file_extension": ".py",
   "mimetype": "text/x-python",
   "name": "python",
   "nbconvert_exporter": "python",
   "pygments_lexer": "ipython3",
   "version": "3.6.3"
  }
 },
 "nbformat": 4,
 "nbformat_minor": 2
}
